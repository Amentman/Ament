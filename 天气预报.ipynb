{
 "cells": [
  {
   "cell_type": "code",
   "execution_count": null,
   "metadata": {},
   "outputs": [
    {
     "name": "stdout",
     "output_type": "stream",
     "text": [
      "*******小七天气预报查询!(输入0退出!)*******\n",
      "请输入城市名称: 大连\n",
      "请输入日期 格式:(2019-05-07)2019-04-05\n",
      "*******小七天气预报查询!(输入0退出!)*******\n",
      "请输入城市名称: 北京\n",
      "请输入日期 格式:(2019-05-07)2019-05-08\n",
      "08\n",
      "05:09\n",
      "高温 27.0℃\n",
      "低温 12.0℃\n",
      "19:14\n",
      "68.0\n",
      "2019-05-08\n",
      "星期三\n",
      "西南风\n",
      "<3级\n",
      "多云\n",
      "阴晴之间，谨防紫外线侵扰\n",
      "*******小七天气预报查询!(输入0退出!)*******\n"
     ]
    }
   ],
   "source": [
    "# 导入request_html中的 和city 包\n",
    "from requests_html import HTMLSession\n",
    "from city import city\n",
    "session = HTMLSession()\n",
    "\n",
    "# 定义一个天气函数\n",
    "def weather(cs,fordate):\n",
    "    \n",
    "    dm = city(cs) # 调用 city 函数\n",
    "    \n",
    "    # 得到登录的请求头信息,\n",
    "    headers = {'User-Agent': 'Mozilla/5.0 (Windows NT 10.0; WOW64) AppleWebKit/537.36 (KHTML, like Gecko) Chrome/63.0.3239.132 Safari/537.36'}\n",
    "    \n",
    "    # 登录要请求的地址，\n",
    "    url = 'http://t.weather.sojson.com/api/weather/city/%s' % dm\n",
    "    \n",
    "    # 开始登录\n",
    "    r = session.get(url, headers=headers)\n",
    "    \n",
    "    # 打印出响应的内容\n",
    "    r = r.json()\n",
    "    \n",
    "    # 尝试读取数据\n",
    "    for i in r[\"data\"][\"forecast\"]:\n",
    "        if fordate == i[\"ymd\"]:\n",
    "            for j in i:\n",
    "                print(i[j])\n",
    "\n",
    "# 查询语句\n",
    "if __name__ == '__main__':\n",
    "    while True:\n",
    "        \n",
    "        print('*' * 7 + '小七天气预报查询!(输入0退出!)' + '*' * 7)\n",
    "        \n",
    "        # 让用户输入城市名称\n",
    "        cs = input('请输入城市名称: ')\n",
    "        da = input(\"请输入日期 格式:(2019-05-07)\")\n",
    "        \n",
    "        if cs != '0':\n",
    "            # 如果输入不为0，调用 weather 函数输出结果\n",
    "            weather(cs,da)\n",
    "        else:\n",
    "            # 如果输入为0，退出程序\n",
    "            print('欢迎再次使用!\\n已经退出天气查询!')\n",
    "            break"
   ]
  },
  {
   "cell_type": "code",
   "execution_count": null,
   "metadata": {},
   "outputs": [],
   "source": []
  }
 ],
 "metadata": {
  "kernelspec": {
   "display_name": "Python 3",
   "language": "python",
   "name": "python3"
  },
  "language_info": {
   "codemirror_mode": {
    "name": "ipython",
    "version": 3
   },
   "file_extension": ".py",
   "mimetype": "text/x-python",
   "name": "python",
   "nbconvert_exporter": "python",
   "pygments_lexer": "ipython3",
   "version": "3.7.1"
  }
 },
 "nbformat": 4,
 "nbformat_minor": 2
}
